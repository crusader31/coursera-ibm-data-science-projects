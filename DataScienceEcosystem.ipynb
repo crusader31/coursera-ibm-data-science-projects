{
 "cells": [
  {
   "cell_type": "markdown",
   "id": "168180e5-cd7c-4bb2-8981-96c09ed5f76f",
   "metadata": {},
   "source": [
    "# Data Science Tools and Ecosystem"
   ]
  },
  {
   "cell_type": "markdown",
   "id": "8092bb7b-cc79-4564-a476-f1b52aa1c07c",
   "metadata": {},
   "source": [
    "In this notebook, Data Science Tools and Ecosystem are summarized."
   ]
  },
  {
   "cell_type": "markdown",
   "id": "b7ace374-c1fc-4e39-8428-02bb84a47fdf",
   "metadata": {},
   "source": [
    "#### Objectives:\n",
    "                * list of popular data science languages\n",
    "                * list of popular data science libraries\n",
    "                * list of popular data science tools"
   ]
  },
  {
   "cell_type": "markdown",
   "id": "79757ad1-b1c1-4bc6-98e2-d98e1e8b4215",
   "metadata": {
    "jupyter": {
     "source_hidden": true
    },
    "tags": []
   },
   "source": [
    "### Some of the popular languages that Data Scientists use are: \n",
    "        1.python\n",
    "        2.R\n",
    "        3.julia"
   ]
  },
  {
   "cell_type": "markdown",
   "id": "7151751f-fdd5-479a-bf3f-b4d4c792a48e",
   "metadata": {},
   "source": [
    "# Some of the commonly used libraries used by Data Scientists include:\n",
    "        1.pandas\n",
    "        2.tensorflow\n",
    "        3.matplotlib"
   ]
  },
  {
   "cell_type": "markdown",
   "id": "e752ee02-34b5-4995-8ec0-d8a0f2692c6c",
   "metadata": {},
   "source": [
    "    | Data Science Tools  |\n",
    "    |---------------------|\n",
    "    |    Rstudio          |\n",
    "    |  jupyter notebook   |\n",
    "    |  v s code           |\n",
    "    "
   ]
  },
  {
   "cell_type": "code",
   "execution_count": null,
   "id": "bc6fed69-2c19-4a46-a0fc-77ad1f2d1477",
   "metadata": {},
   "outputs": [],
   "source": [
    "### Below are a few examples of evaluating arithmetic expressions in Python\n",
    "\n",
    "(3*4)+5"
   ]
  },
  {
   "cell_type": "code",
   "execution_count": null,
   "id": "dda8aea5-b2b7-4703-a46b-9b09a9927996",
   "metadata": {},
   "outputs": [],
   "source": [
    "# This will convert 200 minutes to hours by diving by 60\n",
    "\n",
    "(200/60)"
   ]
  },
  {
   "cell_type": "markdown",
   "id": "2333766a-8636-4a89-997a-42d960c2788f",
   "metadata": {},
   "source": [
    "#### Author\n",
    "###### mikey"
   ]
  },
  {
   "cell_type": "code",
   "execution_count": null,
   "id": "294d9d60-494d-410e-887a-9e8d617e74bd",
   "metadata": {},
   "outputs": [],
   "source": []
  }
 ],
 "metadata": {
  "kernelspec": {
   "display_name": "Python",
   "language": "python",
   "name": "conda-env-python-py"
  },
  "language_info": {
   "codemirror_mode": {
    "name": "ipython",
    "version": 3
   },
   "file_extension": ".py",
   "mimetype": "text/x-python",
   "name": "python",
   "nbconvert_exporter": "python",
   "pygments_lexer": "ipython3",
   "version": "3.7.12"
  }
 },
 "nbformat": 4,
 "nbformat_minor": 5
}
